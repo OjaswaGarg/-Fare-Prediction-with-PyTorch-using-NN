{
 "cells": [
  {
   "cell_type": "code",
   "execution_count": 1,
   "id": "alike-tension",
   "metadata": {
    "_cell_guid": "b1076dfc-b9ad-4769-8c92-a6c4dae69d19",
    "_uuid": "8f2839f25d086af736a60e9eeb907d3b93b6e0e5",
    "execution": {
     "iopub.execute_input": "2021-05-30T09:20:12.125740Z",
     "iopub.status.busy": "2021-05-30T09:20:12.124794Z",
     "iopub.status.idle": "2021-05-30T09:20:13.443849Z",
     "shell.execute_reply": "2021-05-30T09:20:13.443047Z",
     "shell.execute_reply.started": "2021-05-30T07:13:34.564725Z"
    },
    "papermill": {
     "duration": 1.374458,
     "end_time": "2021-05-30T09:20:13.444069",
     "exception": false,
     "start_time": "2021-05-30T09:20:12.069611",
     "status": "completed"
    },
    "tags": []
   },
   "outputs": [
    {
     "name": "stdout",
     "output_type": "stream",
     "text": [
      "/kaggle/input/new-york-city-taxi-fare-prediction/sample_submission.csv\n",
      "/kaggle/input/new-york-city-taxi-fare-prediction/GCP-Coupons-Instructions.rtf\n",
      "/kaggle/input/new-york-city-taxi-fare-prediction/train.csv\n",
      "/kaggle/input/new-york-city-taxi-fare-prediction/test.csv\n"
     ]
    }
   ],
   "source": [
    "# This Python 3 environment comes with many helpful analytics libraries installed\n",
    "# It is defined by the kaggle/python Docker image: https://github.com/kaggle/docker-python\n",
    "# For example, here's several helpful packages to load\n",
    "\n",
    "import numpy as np # linear algebra\n",
    "import pandas as pd # data processing, CSV file I/O (e.g. pd.read_csv)\n",
    "import torch\n",
    "# Input data files are available in the read-only \"../input/\" directory\n",
    "# For example, running this (by clicking run or pressing Shift+Enter) will list all files under the input directory\n",
    "\n",
    "import os\n",
    "for dirname, _, filenames in os.walk('/kaggle/input'):\n",
    "    for filename in filenames:\n",
    "        print(os.path.join(dirname, filename))\n",
    "\n",
    "# You can write up to 20GB to the current directory (/kaggle/working/) that gets preserved as output when you create a version using \"Save & Run All\" \n",
    "# You can also write temporary files to /kaggle/temp/, but they won't be saved outside of the current session"
   ]
  },
  {
   "cell_type": "code",
   "execution_count": 2,
   "id": "veterinary-contemporary",
   "metadata": {
    "execution": {
     "iopub.execute_input": "2021-05-30T09:20:13.517042Z",
     "iopub.status.busy": "2021-05-30T09:20:13.516269Z",
     "iopub.status.idle": "2021-05-30T09:20:14.691246Z",
     "shell.execute_reply": "2021-05-30T09:20:14.691794Z",
     "shell.execute_reply.started": "2021-05-30T07:13:39.426339Z"
    },
    "papermill": {
     "duration": 1.214908,
     "end_time": "2021-05-30T09:20:14.692014",
     "exception": false,
     "start_time": "2021-05-30T09:20:13.477106",
     "status": "completed"
    },
    "tags": []
   },
   "outputs": [],
   "source": [
    "import torch\n",
    "import numpy as np\n",
    "import pandas as pd\n",
    "import datetime as dt\n",
    "import time\n",
    "import math\n",
    "import matplotlib.pyplot as plt\n",
    "import seaborn as sns\n",
    "import torch.nn as nn\n",
    "import torch.nn.functional as F\n",
    "from torch.utils.data import TensorDataset, DataLoader"
   ]
  },
  {
   "cell_type": "markdown",
   "id": "bizarre-chain",
   "metadata": {
    "papermill": {
     "duration": 0.033747,
     "end_time": "2021-05-30T09:20:14.759467",
     "exception": false,
     "start_time": "2021-05-30T09:20:14.725720",
     "status": "completed"
    },
    "tags": []
   },
   "source": [
    "# Data Loading"
   ]
  },
  {
   "cell_type": "code",
   "execution_count": 3,
   "id": "starting-round",
   "metadata": {
    "execution": {
     "iopub.execute_input": "2021-05-30T09:20:14.829397Z",
     "iopub.status.busy": "2021-05-30T09:20:14.828217Z",
     "iopub.status.idle": "2021-05-30T09:20:16.141927Z",
     "shell.execute_reply": "2021-05-30T09:20:16.141331Z",
     "shell.execute_reply.started": "2021-05-30T07:40:16.554124Z"
    },
    "papermill": {
     "duration": 1.350693,
     "end_time": "2021-05-30T09:20:16.142113",
     "exception": false,
     "start_time": "2021-05-30T09:20:14.791420",
     "status": "completed"
    },
    "tags": []
   },
   "outputs": [
    {
     "data": {
      "text/html": [
       "<div>\n",
       "<style scoped>\n",
       "    .dataframe tbody tr th:only-of-type {\n",
       "        vertical-align: middle;\n",
       "    }\n",
       "\n",
       "    .dataframe tbody tr th {\n",
       "        vertical-align: top;\n",
       "    }\n",
       "\n",
       "    .dataframe thead th {\n",
       "        text-align: right;\n",
       "    }\n",
       "</style>\n",
       "<table border=\"1\" class=\"dataframe\">\n",
       "  <thead>\n",
       "    <tr style=\"text-align: right;\">\n",
       "      <th></th>\n",
       "      <th>key</th>\n",
       "      <th>fare_amount</th>\n",
       "      <th>pickup_datetime</th>\n",
       "      <th>pickup_longitude</th>\n",
       "      <th>pickup_latitude</th>\n",
       "      <th>dropoff_longitude</th>\n",
       "      <th>dropoff_latitude</th>\n",
       "      <th>passenger_count</th>\n",
       "    </tr>\n",
       "  </thead>\n",
       "  <tbody>\n",
       "    <tr>\n",
       "      <th>0</th>\n",
       "      <td>2009-06-15 17:26:21.0000001</td>\n",
       "      <td>4.5</td>\n",
       "      <td>2009-06-15 17:26:21 UTC</td>\n",
       "      <td>-73.844311</td>\n",
       "      <td>40.721319</td>\n",
       "      <td>-73.841610</td>\n",
       "      <td>40.712278</td>\n",
       "      <td>1</td>\n",
       "    </tr>\n",
       "    <tr>\n",
       "      <th>1</th>\n",
       "      <td>2010-01-05 16:52:16.0000002</td>\n",
       "      <td>16.9</td>\n",
       "      <td>2010-01-05 16:52:16 UTC</td>\n",
       "      <td>-74.016048</td>\n",
       "      <td>40.711303</td>\n",
       "      <td>-73.979268</td>\n",
       "      <td>40.782004</td>\n",
       "      <td>1</td>\n",
       "    </tr>\n",
       "    <tr>\n",
       "      <th>2</th>\n",
       "      <td>2011-08-18 00:35:00.00000049</td>\n",
       "      <td>5.7</td>\n",
       "      <td>2011-08-18 00:35:00 UTC</td>\n",
       "      <td>-73.982738</td>\n",
       "      <td>40.761270</td>\n",
       "      <td>-73.991242</td>\n",
       "      <td>40.750562</td>\n",
       "      <td>2</td>\n",
       "    </tr>\n",
       "    <tr>\n",
       "      <th>3</th>\n",
       "      <td>2012-04-21 04:30:42.0000001</td>\n",
       "      <td>7.7</td>\n",
       "      <td>2012-04-21 04:30:42 UTC</td>\n",
       "      <td>-73.987130</td>\n",
       "      <td>40.733143</td>\n",
       "      <td>-73.991567</td>\n",
       "      <td>40.758092</td>\n",
       "      <td>1</td>\n",
       "    </tr>\n",
       "    <tr>\n",
       "      <th>4</th>\n",
       "      <td>2010-03-09 07:51:00.000000135</td>\n",
       "      <td>5.3</td>\n",
       "      <td>2010-03-09 07:51:00 UTC</td>\n",
       "      <td>-73.968095</td>\n",
       "      <td>40.768008</td>\n",
       "      <td>-73.956655</td>\n",
       "      <td>40.783762</td>\n",
       "      <td>1</td>\n",
       "    </tr>\n",
       "  </tbody>\n",
       "</table>\n",
       "</div>"
      ],
      "text/plain": [
       "                             key  fare_amount          pickup_datetime  \\\n",
       "0    2009-06-15 17:26:21.0000001          4.5  2009-06-15 17:26:21 UTC   \n",
       "1    2010-01-05 16:52:16.0000002         16.9  2010-01-05 16:52:16 UTC   \n",
       "2   2011-08-18 00:35:00.00000049          5.7  2011-08-18 00:35:00 UTC   \n",
       "3    2012-04-21 04:30:42.0000001          7.7  2012-04-21 04:30:42 UTC   \n",
       "4  2010-03-09 07:51:00.000000135          5.3  2010-03-09 07:51:00 UTC   \n",
       "\n",
       "   pickup_longitude  pickup_latitude  dropoff_longitude  dropoff_latitude  \\\n",
       "0        -73.844311        40.721319         -73.841610         40.712278   \n",
       "1        -74.016048        40.711303         -73.979268         40.782004   \n",
       "2        -73.982738        40.761270         -73.991242         40.750562   \n",
       "3        -73.987130        40.733143         -73.991567         40.758092   \n",
       "4        -73.968095        40.768008         -73.956655         40.783762   \n",
       "\n",
       "   passenger_count  \n",
       "0                1  \n",
       "1                1  \n",
       "2                2  \n",
       "3                1  \n",
       "4                1  "
      ]
     },
     "execution_count": 3,
     "metadata": {},
     "output_type": "execute_result"
    }
   ],
   "source": [
    "df = pd.read_csv('../input/new-york-city-taxi-fare-prediction/train.csv',nrows=300000)\n",
    "df.head()"
   ]
  },
  {
   "cell_type": "markdown",
   "id": "generous-transaction",
   "metadata": {
    "papermill": {
     "duration": 0.031788,
     "end_time": "2021-05-30T09:20:16.205102",
     "exception": false,
     "start_time": "2021-05-30T09:20:16.173314",
     "status": "completed"
    },
    "tags": []
   },
   "source": [
    "# Shuffling"
   ]
  },
  {
   "cell_type": "code",
   "execution_count": 4,
   "id": "sized-marketing",
   "metadata": {
    "execution": {
     "iopub.execute_input": "2021-05-30T09:20:16.273727Z",
     "iopub.status.busy": "2021-05-30T09:20:16.272979Z",
     "iopub.status.idle": "2021-05-30T09:20:16.485597Z",
     "shell.execute_reply": "2021-05-30T09:20:16.486182Z",
     "shell.execute_reply.started": "2021-05-30T07:40:18.465248Z"
    },
    "papermill": {
     "duration": 0.250425,
     "end_time": "2021-05-30T09:20:16.486407",
     "exception": false,
     "start_time": "2021-05-30T09:20:16.235982",
     "status": "completed"
    },
    "tags": []
   },
   "outputs": [
    {
     "data": {
      "text/html": [
       "<div>\n",
       "<style scoped>\n",
       "    .dataframe tbody tr th:only-of-type {\n",
       "        vertical-align: middle;\n",
       "    }\n",
       "\n",
       "    .dataframe tbody tr th {\n",
       "        vertical-align: top;\n",
       "    }\n",
       "\n",
       "    .dataframe thead th {\n",
       "        text-align: right;\n",
       "    }\n",
       "</style>\n",
       "<table border=\"1\" class=\"dataframe\">\n",
       "  <thead>\n",
       "    <tr style=\"text-align: right;\">\n",
       "      <th></th>\n",
       "      <th>key</th>\n",
       "      <th>fare_amount</th>\n",
       "      <th>pickup_datetime</th>\n",
       "      <th>pickup_longitude</th>\n",
       "      <th>pickup_latitude</th>\n",
       "      <th>dropoff_longitude</th>\n",
       "      <th>dropoff_latitude</th>\n",
       "      <th>passenger_count</th>\n",
       "    </tr>\n",
       "  </thead>\n",
       "  <tbody>\n",
       "    <tr>\n",
       "      <th>0</th>\n",
       "      <td>2010-12-21 13:31:00.00000099</td>\n",
       "      <td>5.3</td>\n",
       "      <td>2010-12-21 13:31:00 UTC</td>\n",
       "      <td>-73.988292</td>\n",
       "      <td>40.754107</td>\n",
       "      <td>-73.993705</td>\n",
       "      <td>40.745993</td>\n",
       "      <td>1</td>\n",
       "    </tr>\n",
       "    <tr>\n",
       "      <th>1</th>\n",
       "      <td>2009-10-07 18:40:00.000000190</td>\n",
       "      <td>5.7</td>\n",
       "      <td>2009-10-07 18:40:00 UTC</td>\n",
       "      <td>-73.988930</td>\n",
       "      <td>40.734023</td>\n",
       "      <td>-73.998965</td>\n",
       "      <td>40.730502</td>\n",
       "      <td>1</td>\n",
       "    </tr>\n",
       "    <tr>\n",
       "      <th>2</th>\n",
       "      <td>2009-08-07 13:16:25.0000002</td>\n",
       "      <td>7.7</td>\n",
       "      <td>2009-08-07 13:16:25 UTC</td>\n",
       "      <td>-74.000320</td>\n",
       "      <td>40.762313</td>\n",
       "      <td>-73.982991</td>\n",
       "      <td>40.781928</td>\n",
       "      <td>1</td>\n",
       "    </tr>\n",
       "    <tr>\n",
       "      <th>3</th>\n",
       "      <td>2015-06-06 21:56:03.0000009</td>\n",
       "      <td>10.5</td>\n",
       "      <td>2015-06-06 21:56:03 UTC</td>\n",
       "      <td>-73.994102</td>\n",
       "      <td>40.754360</td>\n",
       "      <td>-73.981247</td>\n",
       "      <td>40.741573</td>\n",
       "      <td>1</td>\n",
       "    </tr>\n",
       "    <tr>\n",
       "      <th>4</th>\n",
       "      <td>2010-10-25 13:50:00.00000012</td>\n",
       "      <td>10.1</td>\n",
       "      <td>2010-10-25 13:50:00 UTC</td>\n",
       "      <td>-73.978672</td>\n",
       "      <td>40.759425</td>\n",
       "      <td>-73.997605</td>\n",
       "      <td>40.766375</td>\n",
       "      <td>2</td>\n",
       "    </tr>\n",
       "  </tbody>\n",
       "</table>\n",
       "</div>"
      ],
      "text/plain": [
       "                             key  fare_amount          pickup_datetime  \\\n",
       "0   2010-12-21 13:31:00.00000099          5.3  2010-12-21 13:31:00 UTC   \n",
       "1  2009-10-07 18:40:00.000000190          5.7  2009-10-07 18:40:00 UTC   \n",
       "2    2009-08-07 13:16:25.0000002          7.7  2009-08-07 13:16:25 UTC   \n",
       "3    2015-06-06 21:56:03.0000009         10.5  2015-06-06 21:56:03 UTC   \n",
       "4   2010-10-25 13:50:00.00000012         10.1  2010-10-25 13:50:00 UTC   \n",
       "\n",
       "   pickup_longitude  pickup_latitude  dropoff_longitude  dropoff_latitude  \\\n",
       "0        -73.988292        40.754107         -73.993705         40.745993   \n",
       "1        -73.988930        40.734023         -73.998965         40.730502   \n",
       "2        -74.000320        40.762313         -73.982991         40.781928   \n",
       "3        -73.994102        40.754360         -73.981247         40.741573   \n",
       "4        -73.978672        40.759425         -73.997605         40.766375   \n",
       "\n",
       "   passenger_count  \n",
       "0                1  \n",
       "1                1  \n",
       "2                1  \n",
       "3                1  \n",
       "4                2  "
      ]
     },
     "execution_count": 4,
     "metadata": {},
     "output_type": "execute_result"
    }
   ],
   "source": [
    "df=df.sample(frac=1).reset_index(drop=True)\n",
    "df.head()"
   ]
  },
  {
   "cell_type": "code",
   "execution_count": 5,
   "id": "fantastic-pontiac",
   "metadata": {
    "execution": {
     "iopub.execute_input": "2021-05-30T09:20:16.559093Z",
     "iopub.status.busy": "2021-05-30T09:20:16.558346Z",
     "iopub.status.idle": "2021-05-30T09:20:16.924447Z",
     "shell.execute_reply": "2021-05-30T09:20:16.923671Z",
     "shell.execute_reply.started": "2021-05-30T07:40:19.887173Z"
    },
    "papermill": {
     "duration": 0.40522,
     "end_time": "2021-05-30T09:20:16.924617",
     "exception": false,
     "start_time": "2021-05-30T09:20:16.519397",
     "status": "completed"
    },
    "tags": []
   },
   "outputs": [],
   "source": [
    "df.isna().sum()\n",
    "df=df.dropna()\n",
    "    "
   ]
  },
  {
   "cell_type": "code",
   "execution_count": 6,
   "id": "flush-uruguay",
   "metadata": {
    "execution": {
     "iopub.execute_input": "2021-05-30T09:20:16.999033Z",
     "iopub.status.busy": "2021-05-30T09:20:16.997986Z",
     "iopub.status.idle": "2021-05-30T09:20:17.144526Z",
     "shell.execute_reply": "2021-05-30T09:20:17.145056Z",
     "shell.execute_reply.started": "2021-05-30T07:40:22.253940Z"
    },
    "papermill": {
     "duration": 0.18765,
     "end_time": "2021-05-30T09:20:17.145271",
     "exception": false,
     "start_time": "2021-05-30T09:20:16.957621",
     "status": "completed"
    },
    "tags": []
   },
   "outputs": [
    {
     "data": {
      "text/plain": [
       "key                  0\n",
       "fare_amount          0\n",
       "pickup_datetime      0\n",
       "pickup_longitude     0\n",
       "pickup_latitude      0\n",
       "dropoff_longitude    0\n",
       "dropoff_latitude     0\n",
       "passenger_count      0\n",
       "dtype: int64"
      ]
     },
     "execution_count": 6,
     "metadata": {},
     "output_type": "execute_result"
    }
   ],
   "source": [
    "df.isna().sum()"
   ]
  },
  {
   "cell_type": "code",
   "execution_count": 7,
   "id": "statewide-discussion",
   "metadata": {
    "execution": {
     "iopub.execute_input": "2021-05-30T09:20:17.250727Z",
     "iopub.status.busy": "2021-05-30T09:20:17.234981Z",
     "iopub.status.idle": "2021-05-30T09:21:03.431886Z",
     "shell.execute_reply": "2021-05-30T09:21:03.432423Z",
     "shell.execute_reply.started": "2021-05-30T07:40:25.155629Z"
    },
    "papermill": {
     "duration": 46.252899,
     "end_time": "2021-05-30T09:21:03.432635",
     "exception": false,
     "start_time": "2021-05-30T09:20:17.179736",
     "status": "completed"
    },
    "tags": []
   },
   "outputs": [
    {
     "data": {
      "text/html": [
       "<div>\n",
       "<style scoped>\n",
       "    .dataframe tbody tr th:only-of-type {\n",
       "        vertical-align: middle;\n",
       "    }\n",
       "\n",
       "    .dataframe tbody tr th {\n",
       "        vertical-align: top;\n",
       "    }\n",
       "\n",
       "    .dataframe thead th {\n",
       "        text-align: right;\n",
       "    }\n",
       "</style>\n",
       "<table border=\"1\" class=\"dataframe\">\n",
       "  <thead>\n",
       "    <tr style=\"text-align: right;\">\n",
       "      <th></th>\n",
       "      <th>key</th>\n",
       "      <th>fare_amount</th>\n",
       "      <th>pickup_datetime</th>\n",
       "      <th>pickup_longitude</th>\n",
       "      <th>pickup_latitude</th>\n",
       "      <th>dropoff_longitude</th>\n",
       "      <th>dropoff_latitude</th>\n",
       "      <th>passenger_count</th>\n",
       "      <th>Hour</th>\n",
       "      <th>Weekday</th>\n",
       "    </tr>\n",
       "  </thead>\n",
       "  <tbody>\n",
       "    <tr>\n",
       "      <th>0</th>\n",
       "      <td>2010-12-21 13:31:00.00000099</td>\n",
       "      <td>5.3</td>\n",
       "      <td>2010-12-21 09:31:00+00:00</td>\n",
       "      <td>-73.988292</td>\n",
       "      <td>40.754107</td>\n",
       "      <td>-73.993705</td>\n",
       "      <td>40.745993</td>\n",
       "      <td>1</td>\n",
       "      <td>9</td>\n",
       "      <td>Tue</td>\n",
       "    </tr>\n",
       "    <tr>\n",
       "      <th>1</th>\n",
       "      <td>2009-10-07 18:40:00.000000190</td>\n",
       "      <td>5.7</td>\n",
       "      <td>2009-10-07 14:40:00+00:00</td>\n",
       "      <td>-73.988930</td>\n",
       "      <td>40.734023</td>\n",
       "      <td>-73.998965</td>\n",
       "      <td>40.730502</td>\n",
       "      <td>1</td>\n",
       "      <td>14</td>\n",
       "      <td>Wed</td>\n",
       "    </tr>\n",
       "    <tr>\n",
       "      <th>2</th>\n",
       "      <td>2009-08-07 13:16:25.0000002</td>\n",
       "      <td>7.7</td>\n",
       "      <td>2009-08-07 09:16:25+00:00</td>\n",
       "      <td>-74.000320</td>\n",
       "      <td>40.762313</td>\n",
       "      <td>-73.982991</td>\n",
       "      <td>40.781928</td>\n",
       "      <td>1</td>\n",
       "      <td>9</td>\n",
       "      <td>Fri</td>\n",
       "    </tr>\n",
       "    <tr>\n",
       "      <th>3</th>\n",
       "      <td>2015-06-06 21:56:03.0000009</td>\n",
       "      <td>10.5</td>\n",
       "      <td>2015-06-06 17:56:03+00:00</td>\n",
       "      <td>-73.994102</td>\n",
       "      <td>40.754360</td>\n",
       "      <td>-73.981247</td>\n",
       "      <td>40.741573</td>\n",
       "      <td>1</td>\n",
       "      <td>17</td>\n",
       "      <td>Sat</td>\n",
       "    </tr>\n",
       "    <tr>\n",
       "      <th>4</th>\n",
       "      <td>2010-10-25 13:50:00.00000012</td>\n",
       "      <td>10.1</td>\n",
       "      <td>2010-10-25 09:50:00+00:00</td>\n",
       "      <td>-73.978672</td>\n",
       "      <td>40.759425</td>\n",
       "      <td>-73.997605</td>\n",
       "      <td>40.766375</td>\n",
       "      <td>2</td>\n",
       "      <td>9</td>\n",
       "      <td>Mon</td>\n",
       "    </tr>\n",
       "  </tbody>\n",
       "</table>\n",
       "</div>"
      ],
      "text/plain": [
       "                             key  fare_amount           pickup_datetime  \\\n",
       "0   2010-12-21 13:31:00.00000099          5.3 2010-12-21 09:31:00+00:00   \n",
       "1  2009-10-07 18:40:00.000000190          5.7 2009-10-07 14:40:00+00:00   \n",
       "2    2009-08-07 13:16:25.0000002          7.7 2009-08-07 09:16:25+00:00   \n",
       "3    2015-06-06 21:56:03.0000009         10.5 2015-06-06 17:56:03+00:00   \n",
       "4   2010-10-25 13:50:00.00000012         10.1 2010-10-25 09:50:00+00:00   \n",
       "\n",
       "   pickup_longitude  pickup_latitude  dropoff_longitude  dropoff_latitude  \\\n",
       "0        -73.988292        40.754107         -73.993705         40.745993   \n",
       "1        -73.988930        40.734023         -73.998965         40.730502   \n",
       "2        -74.000320        40.762313         -73.982991         40.781928   \n",
       "3        -73.994102        40.754360         -73.981247         40.741573   \n",
       "4        -73.978672        40.759425         -73.997605         40.766375   \n",
       "\n",
       "   passenger_count  Hour Weekday  \n",
       "0                1     9     Tue  \n",
       "1                1    14     Wed  \n",
       "2                1     9     Fri  \n",
       "3                1    17     Sat  \n",
       "4                2     9     Mon  "
      ]
     },
     "execution_count": 7,
     "metadata": {},
     "output_type": "execute_result"
    }
   ],
   "source": [
    "#Time is in UTC which is 4 hrs ahead of US Time\n",
    "df['pickup_datetime']=pd.to_datetime(df['pickup_datetime']) - pd.Timedelta(hours=4)\n",
    "df['Hour']=df['pickup_datetime'].dt.hour\n",
    "df['Weekday']=df['pickup_datetime'].dt.strftime(\"%a\")\n",
    "\n",
    "df.head()"
   ]
  },
  {
   "cell_type": "code",
   "execution_count": 8,
   "id": "frozen-closure",
   "metadata": {
    "execution": {
     "iopub.execute_input": "2021-05-30T09:21:03.507969Z",
     "iopub.status.busy": "2021-05-30T09:21:03.506668Z",
     "iopub.status.idle": "2021-05-30T09:21:03.511086Z",
     "shell.execute_reply": "2021-05-30T09:21:03.510317Z",
     "shell.execute_reply.started": "2021-05-30T07:40:42.182884Z"
    },
    "papermill": {
     "duration": 0.046318,
     "end_time": "2021-05-30T09:21:03.511254",
     "exception": false,
     "start_time": "2021-05-30T09:21:03.464936",
     "status": "completed"
    },
    "tags": []
   },
   "outputs": [],
   "source": [
    "def distance(df,lat,long,lat1,long1):\n",
    "    radius=6371\n",
    "    latradians=np.radians(df[lat])\n",
    "    latradians1=np.radians(df[lat1])\n",
    "    diflatradians=np.radians(df[lat1]-df[lat])\n",
    "    diflongradians=np.radians(df[long1]-df[long])\n",
    "    a=np.sin(diflatradians/2)**2 + np.cos(latradians)* np.sin(diflongradians/2)**2 * np.cos(latradians1)\n",
    "    distance = radius * (2*np.arctan2(np.sqrt(a),np.sqrt(1-a)))\n",
    "    return distance"
   ]
  },
  {
   "cell_type": "markdown",
   "id": "greater-logan",
   "metadata": {
    "papermill": {
     "duration": 0.034191,
     "end_time": "2021-05-30T09:21:03.580436",
     "exception": false,
     "start_time": "2021-05-30T09:21:03.546245",
     "status": "completed"
    },
    "tags": []
   },
   "source": [
    "# Distance Between Coordinates"
   ]
  },
  {
   "cell_type": "code",
   "execution_count": 9,
   "id": "global-sweden",
   "metadata": {
    "execution": {
     "iopub.execute_input": "2021-05-30T09:21:03.654592Z",
     "iopub.status.busy": "2021-05-30T09:21:03.653863Z",
     "iopub.status.idle": "2021-05-30T09:21:03.733409Z",
     "shell.execute_reply": "2021-05-30T09:21:03.732584Z",
     "shell.execute_reply.started": "2021-05-30T07:40:42.191156Z"
    },
    "papermill": {
     "duration": 0.118105,
     "end_time": "2021-05-30T09:21:03.733585",
     "exception": false,
     "start_time": "2021-05-30T09:21:03.615480",
     "status": "completed"
    },
    "tags": []
   },
   "outputs": [],
   "source": [
    "df['distance']=distance(df,'pickup_latitude','pickup_longitude','dropoff_latitude','dropoff_longitude')"
   ]
  },
  {
   "cell_type": "code",
   "execution_count": 10,
   "id": "insured-fetish",
   "metadata": {
    "execution": {
     "iopub.execute_input": "2021-05-30T09:21:03.807257Z",
     "iopub.status.busy": "2021-05-30T09:21:03.806008Z",
     "iopub.status.idle": "2021-05-30T09:21:03.836972Z",
     "shell.execute_reply": "2021-05-30T09:21:03.836131Z",
     "shell.execute_reply.started": "2021-05-30T07:40:42.235440Z"
    },
    "papermill": {
     "duration": 0.069292,
     "end_time": "2021-05-30T09:21:03.837155",
     "exception": false,
     "start_time": "2021-05-30T09:21:03.767863",
     "status": "completed"
    },
    "tags": []
   },
   "outputs": [
    {
     "data": {
      "text/plain": [
       "count    299998.000000\n",
       "mean         19.093012\n",
       "std         363.136869\n",
       "min           0.000000\n",
       "25%           1.215327\n",
       "50%           2.120239\n",
       "75%           3.886547\n",
       "max       10942.515639\n",
       "Name: distance, dtype: float64"
      ]
     },
     "execution_count": 10,
     "metadata": {},
     "output_type": "execute_result"
    }
   ],
   "source": [
    "df['distance'].describe()"
   ]
  },
  {
   "cell_type": "code",
   "execution_count": 11,
   "id": "knowing-debate",
   "metadata": {
    "execution": {
     "iopub.execute_input": "2021-05-30T09:21:03.908317Z",
     "iopub.status.busy": "2021-05-30T09:21:03.907602Z",
     "iopub.status.idle": "2021-05-30T09:21:03.941868Z",
     "shell.execute_reply": "2021-05-30T09:21:03.942399Z",
     "shell.execute_reply.started": "2021-05-30T07:40:42.250957Z"
    },
    "papermill": {
     "duration": 0.072518,
     "end_time": "2021-05-30T09:21:03.942652",
     "exception": false,
     "start_time": "2021-05-30T09:21:03.870134",
     "status": "completed"
    },
    "tags": []
   },
   "outputs": [
    {
     "name": "stderr",
     "output_type": "stream",
     "text": [
      "/opt/conda/lib/python3.7/site-packages/ipykernel_launcher.py:2: SettingWithCopyWarning: \n",
      "A value is trying to be set on a copy of a slice from a DataFrame\n",
      "\n",
      "See the caveats in the documentation: https://pandas.pydata.org/pandas-docs/stable/user_guide/indexing.html#returning-a-view-versus-a-copy\n",
      "  \n"
     ]
    },
    {
     "data": {
      "text/html": [
       "<div>\n",
       "<style scoped>\n",
       "    .dataframe tbody tr th:only-of-type {\n",
       "        vertical-align: middle;\n",
       "    }\n",
       "\n",
       "    .dataframe tbody tr th {\n",
       "        vertical-align: top;\n",
       "    }\n",
       "\n",
       "    .dataframe thead th {\n",
       "        text-align: right;\n",
       "    }\n",
       "</style>\n",
       "<table border=\"1\" class=\"dataframe\">\n",
       "  <thead>\n",
       "    <tr style=\"text-align: right;\">\n",
       "      <th></th>\n",
       "      <th>key</th>\n",
       "      <th>fare_amount</th>\n",
       "      <th>pickup_datetime</th>\n",
       "      <th>pickup_longitude</th>\n",
       "      <th>pickup_latitude</th>\n",
       "      <th>dropoff_longitude</th>\n",
       "      <th>dropoff_latitude</th>\n",
       "      <th>passenger_count</th>\n",
       "      <th>Hour</th>\n",
       "      <th>Weekday</th>\n",
       "      <th>distance</th>\n",
       "      <th>Am-Pm</th>\n",
       "    </tr>\n",
       "  </thead>\n",
       "  <tbody>\n",
       "    <tr>\n",
       "      <th>0</th>\n",
       "      <td>2010-12-21 13:31:00.00000099</td>\n",
       "      <td>5.3</td>\n",
       "      <td>2010-12-21 09:31:00+00:00</td>\n",
       "      <td>-73.988292</td>\n",
       "      <td>40.754107</td>\n",
       "      <td>-73.993705</td>\n",
       "      <td>40.745993</td>\n",
       "      <td>1</td>\n",
       "      <td>9</td>\n",
       "      <td>Tue</td>\n",
       "      <td>1.010912</td>\n",
       "      <td>am</td>\n",
       "    </tr>\n",
       "    <tr>\n",
       "      <th>1</th>\n",
       "      <td>2009-10-07 18:40:00.000000190</td>\n",
       "      <td>5.7</td>\n",
       "      <td>2009-10-07 14:40:00+00:00</td>\n",
       "      <td>-73.988930</td>\n",
       "      <td>40.734023</td>\n",
       "      <td>-73.998965</td>\n",
       "      <td>40.730502</td>\n",
       "      <td>1</td>\n",
       "      <td>14</td>\n",
       "      <td>Wed</td>\n",
       "      <td>0.931792</td>\n",
       "      <td>pm</td>\n",
       "    </tr>\n",
       "    <tr>\n",
       "      <th>2</th>\n",
       "      <td>2009-08-07 13:16:25.0000002</td>\n",
       "      <td>7.7</td>\n",
       "      <td>2009-08-07 09:16:25+00:00</td>\n",
       "      <td>-74.000320</td>\n",
       "      <td>40.762313</td>\n",
       "      <td>-73.982991</td>\n",
       "      <td>40.781928</td>\n",
       "      <td>1</td>\n",
       "      <td>9</td>\n",
       "      <td>Fri</td>\n",
       "      <td>2.624233</td>\n",
       "      <td>am</td>\n",
       "    </tr>\n",
       "    <tr>\n",
       "      <th>3</th>\n",
       "      <td>2015-06-06 21:56:03.0000009</td>\n",
       "      <td>10.5</td>\n",
       "      <td>2015-06-06 17:56:03+00:00</td>\n",
       "      <td>-73.994102</td>\n",
       "      <td>40.754360</td>\n",
       "      <td>-73.981247</td>\n",
       "      <td>40.741573</td>\n",
       "      <td>1</td>\n",
       "      <td>17</td>\n",
       "      <td>Sat</td>\n",
       "      <td>1.787286</td>\n",
       "      <td>pm</td>\n",
       "    </tr>\n",
       "    <tr>\n",
       "      <th>4</th>\n",
       "      <td>2010-10-25 13:50:00.00000012</td>\n",
       "      <td>10.1</td>\n",
       "      <td>2010-10-25 09:50:00+00:00</td>\n",
       "      <td>-73.978672</td>\n",
       "      <td>40.759425</td>\n",
       "      <td>-73.997605</td>\n",
       "      <td>40.766375</td>\n",
       "      <td>2</td>\n",
       "      <td>9</td>\n",
       "      <td>Mon</td>\n",
       "      <td>1.771959</td>\n",
       "      <td>am</td>\n",
       "    </tr>\n",
       "  </tbody>\n",
       "</table>\n",
       "</div>"
      ],
      "text/plain": [
       "                             key  fare_amount           pickup_datetime  \\\n",
       "0   2010-12-21 13:31:00.00000099          5.3 2010-12-21 09:31:00+00:00   \n",
       "1  2009-10-07 18:40:00.000000190          5.7 2009-10-07 14:40:00+00:00   \n",
       "2    2009-08-07 13:16:25.0000002          7.7 2009-08-07 09:16:25+00:00   \n",
       "3    2015-06-06 21:56:03.0000009         10.5 2015-06-06 17:56:03+00:00   \n",
       "4   2010-10-25 13:50:00.00000012         10.1 2010-10-25 09:50:00+00:00   \n",
       "\n",
       "   pickup_longitude  pickup_latitude  dropoff_longitude  dropoff_latitude  \\\n",
       "0        -73.988292        40.754107         -73.993705         40.745993   \n",
       "1        -73.988930        40.734023         -73.998965         40.730502   \n",
       "2        -74.000320        40.762313         -73.982991         40.781928   \n",
       "3        -73.994102        40.754360         -73.981247         40.741573   \n",
       "4        -73.978672        40.759425         -73.997605         40.766375   \n",
       "\n",
       "   passenger_count  Hour Weekday  distance Am-Pm  \n",
       "0                1     9     Tue  1.010912    am  \n",
       "1                1    14     Wed  0.931792    pm  \n",
       "2                1     9     Fri  2.624233    am  \n",
       "3                1    17     Sat  1.787286    pm  \n",
       "4                2     9     Mon  1.771959    am  "
      ]
     },
     "execution_count": 11,
     "metadata": {},
     "output_type": "execute_result"
    }
   ],
   "source": [
    "df['Am-Pm']='am'\n",
    "df['Am-Pm'][df['Hour']>=12]='pm'\n",
    "df.head()"
   ]
  },
  {
   "cell_type": "markdown",
   "id": "similar-quantity",
   "metadata": {
    "papermill": {
     "duration": 0.032934,
     "end_time": "2021-05-30T09:21:04.012348",
     "exception": false,
     "start_time": "2021-05-30T09:21:03.979414",
     "status": "completed"
    },
    "tags": []
   },
   "source": [
    "# Data Understanding"
   ]
  },
  {
   "cell_type": "code",
   "execution_count": 12,
   "id": "progressive-feeling",
   "metadata": {
    "execution": {
     "iopub.execute_input": "2021-05-30T09:21:04.104489Z",
     "iopub.status.busy": "2021-05-30T09:21:04.103604Z",
     "iopub.status.idle": "2021-05-30T09:21:04.556492Z",
     "shell.execute_reply": "2021-05-30T09:21:04.557515Z",
     "shell.execute_reply.started": "2021-05-30T07:40:42.275217Z"
    },
    "papermill": {
     "duration": 0.512166,
     "end_time": "2021-05-30T09:21:04.558039",
     "exception": false,
     "start_time": "2021-05-30T09:21:04.045873",
     "status": "completed"
    },
    "tags": []
   },
   "outputs": [
    {
     "data": {
      "image/png": "[encoded data removed]",
      "text/plain": [
       "<Figure size 432x288 with 1 Axes>"
      ]
     },
     "metadata": {
      "needs_background": "light"
     },
     "output_type": "display_data"
    }
   ],
   "source": [
    "plt.hist(df['fare_amount'],bins=50)\n",
    "plt.show()\n",
    "#Most of the fare_amounts are less than 75 dollars"
   ]
  },
  {
   "cell_type": "code",
   "execution_count": 13,
   "id": "right-relaxation",
   "metadata": {
    "execution": {
     "iopub.execute_input": "2021-05-30T09:21:04.640095Z",
     "iopub.status.busy": "2021-05-30T09:21:04.639088Z",
     "iopub.status.idle": "2021-05-30T09:21:04.832059Z",
     "shell.execute_reply": "2021-05-30T09:21:04.831274Z",
     "shell.execute_reply.started": "2021-05-30T07:41:05.928945Z"
    },
    "papermill": {
     "duration": 0.236344,
     "end_time": "2021-05-30T09:21:04.832232",
     "exception": false,
     "start_time": "2021-05-30T09:21:04.595888",
     "status": "completed"
    },
    "tags": []
   },
   "outputs": [
    {
     "data": {
      "text/plain": [
       "(299983, 12)"
      ]
     },
     "execution_count": 13,
     "metadata": {},
     "output_type": "execute_result"
    }
   ],
   "source": [
    "df1=df[(df['fare_amount']>=0)  ]\n",
    "df=df[(df['fare_amount']>=0)  ]\n",
    "# Some instances where fare_amount is less than 0\n",
    "\n",
    "df1.shape"
   ]
  },
  {
   "cell_type": "code",
   "execution_count": 14,
   "id": "reserved-checkout",
   "metadata": {
    "execution": {
     "iopub.execute_input": "2021-05-30T09:21:04.914947Z",
     "iopub.status.busy": "2021-05-30T09:21:04.913714Z",
     "iopub.status.idle": "2021-05-30T09:21:04.937791Z",
     "shell.execute_reply": "2021-05-30T09:21:04.938619Z",
     "shell.execute_reply.started": "2021-05-30T07:41:11.737693Z"
    },
    "papermill": {
     "duration": 0.069703,
     "end_time": "2021-05-30T09:21:04.938942",
     "exception": false,
     "start_time": "2021-05-30T09:21:04.869239",
     "status": "completed"
    },
    "tags": []
   },
   "outputs": [
    {
     "name": "stdout",
     "output_type": "stream",
     "text": [
      "['Hour', 'Weekday', 'Am-Pm']\n"
     ]
    }
   ],
   "source": [
    "col=['Hour','Weekday','Am-Pm','fare_amount']\n",
    "col1=col[:-1]\n",
    "df1=df1[col]\n",
    "df1.head()\n",
    "print(col1)"
   ]
  },
  {
   "cell_type": "markdown",
   "id": "environmental-berkeley",
   "metadata": {
    "papermill": {
     "duration": 0.038282,
     "end_time": "2021-05-30T09:21:05.014432",
     "exception": false,
     "start_time": "2021-05-30T09:21:04.976150",
     "status": "completed"
    },
    "tags": []
   },
   "source": [
    "# Categorical Variables Identified"
   ]
  },
  {
   "cell_type": "code",
   "execution_count": 15,
   "id": "atomic-investment",
   "metadata": {
    "execution": {
     "iopub.execute_input": "2021-05-30T09:21:05.097761Z",
     "iopub.status.busy": "2021-05-30T09:21:05.096631Z",
     "iopub.status.idle": "2021-05-30T09:21:06.286539Z",
     "shell.execute_reply": "2021-05-30T09:21:06.285810Z",
     "shell.execute_reply.started": "2021-05-30T07:41:13.622321Z"
    },
    "papermill": {
     "duration": 1.236076,
     "end_time": "2021-05-30T09:21:06.286716",
     "exception": false,
     "start_time": "2021-05-30T09:21:05.050640",
     "status": "completed"
    },
    "tags": []
   },
   "outputs": [
    {
     "name": "stdout",
     "output_type": "stream",
     "text": [
      "    Hour_avg_fare_amount\n",
      "0                  13.55\n",
      "1                  15.19\n",
      "2                  12.29\n",
      "3                  10.98\n",
      "4                  10.86\n",
      "5                  10.81\n",
      "6                  10.82\n",
      "7                  11.19\n",
      "8                  11.13\n",
      "9                  11.71\n",
      "10                 11.84\n",
      "11                 12.06\n",
      "12                 11.96\n",
      "13                 11.29\n",
      "14                 10.99\n",
      "15                 10.67\n",
      "16                 10.83\n",
      "17                 11.01\n",
      "18                 11.31\n",
      "19                 11.57\n",
      "20                 11.79\n",
      "21                 11.48\n",
      "22                 11.60\n",
      "23                 12.05\n",
      "     Weekday_avg_fare_amount\n",
      "Fri                    11.38\n",
      "Mon                    11.42\n",
      "Sat                    10.97\n",
      "Sun                    11.80\n",
      "Thu                    11.56\n",
      "Tue                    11.22\n",
      "Wed                    11.29\n",
      "    Am-Pm_avg_fare_amount\n",
      "am                  11.47\n",
      "pm                  11.26\n"
     ]
    },
    {
     "data": {
      "image/png": "[encoded data removed]",
      "text/plain": [
       "<Figure size 432x288 with 1 Axes>"
      ]
     },
     "metadata": {
      "needs_background": "light"
     },
     "output_type": "display_data"
    },
    {
     "data": {
      "image/png": "[encoded data removed]",
      "text/plain": [
       "<Figure size 432x288 with 1 Axes>"
      ]
     },
     "metadata": {
      "needs_background": "light"
     },
     "output_type": "display_data"
    },
    {
     "data": {
      "image/png": "[encoded data removed]",
      "text/plain": [
       "<Figure size 432x288 with 1 Axes>"
      ]
     },
     "metadata": {
      "needs_background": "light"
     },
     "output_type": "display_data"
    }
   ],
   "source": [
    "for i in col1:\n",
    "    ls1=[]\n",
    "    ls2=[]\n",
    "    for j in sorted(df1[i].unique()):\n",
    "        a=df1[df1[i]==j][\"fare_amount\"].mean(axis=0)\n",
    "        ls1.append(round(a,2))\n",
    "        ls2.append(j)\n",
    "    ls=pd.DataFrame(data = ls1, \n",
    "                  index = ls2, \n",
    "                  columns = [i+\"_avg_fare_amount\"])\n",
    "    ls.plot()\n",
    "    print(ls)"
   ]
  },
  {
   "cell_type": "code",
   "execution_count": 16,
   "id": "young-prior",
   "metadata": {
    "execution": {
     "iopub.execute_input": "2021-05-30T09:21:06.373020Z",
     "iopub.status.busy": "2021-05-30T09:21:06.372183Z",
     "iopub.status.idle": "2021-05-30T09:21:06.393546Z",
     "shell.execute_reply": "2021-05-30T09:21:06.392886Z",
     "shell.execute_reply.started": "2021-05-30T07:41:18.116219Z"
    },
    "papermill": {
     "duration": 0.068583,
     "end_time": "2021-05-30T09:21:06.393713",
     "exception": false,
     "start_time": "2021-05-30T09:21:06.325130",
     "status": "completed"
    },
    "tags": []
   },
   "outputs": [],
   "source": [
    "cat_col=[\"Hour\",\"Weekday\",\"Am-Pm\"]\n",
    "con_col=['pickup_longitude',\n",
    "       'pickup_latitude', 'dropoff_longitude', 'dropoff_latitude', 'distance','passenger_count' ]\n",
    "df_cat=df[cat_col]\n",
    "df_con=df[con_col]\n",
    "y_col = ['fare_amount']"
   ]
  },
  {
   "cell_type": "code",
   "execution_count": 17,
   "id": "representative-voltage",
   "metadata": {
    "execution": {
     "iopub.execute_input": "2021-05-30T09:21:06.481354Z",
     "iopub.status.busy": "2021-05-30T09:21:06.480605Z",
     "iopub.status.idle": "2021-05-30T09:21:06.566870Z",
     "shell.execute_reply": "2021-05-30T09:21:06.567591Z",
     "shell.execute_reply.started": "2021-05-30T07:41:19.741955Z"
    },
    "papermill": {
     "duration": 0.133243,
     "end_time": "2021-05-30T09:21:06.567869",
     "exception": false,
     "start_time": "2021-05-30T09:21:06.434626",
     "status": "completed"
    },
    "tags": []
   },
   "outputs": [
    {
     "name": "stdout",
     "output_type": "stream",
     "text": [
      "<class 'pandas.core.frame.DataFrame'>\n",
      "Int64Index: 299983 entries, 0 to 299999\n",
      "Data columns (total 3 columns):\n",
      " #   Column   Non-Null Count   Dtype   \n",
      "---  ------   --------------   -----   \n",
      " 0   Hour     299983 non-null  category\n",
      " 1   Weekday  299983 non-null  category\n",
      " 2   Am-Pm    299983 non-null  category\n",
      "dtypes: category(3)\n",
      "memory usage: 3.1 MB\n"
     ]
    },
    {
     "name": "stderr",
     "output_type": "stream",
     "text": [
      "/opt/conda/lib/python3.7/site-packages/ipykernel_launcher.py:3: SettingWithCopyWarning: \n",
      "A value is trying to be set on a copy of a slice from a DataFrame.\n",
      "Try using .loc[row_indexer,col_indexer] = value instead\n",
      "\n",
      "See the caveats in the documentation: https://pandas.pydata.org/pandas-docs/stable/user_guide/indexing.html#returning-a-view-versus-a-copy\n",
      "  This is separate from the ipykernel package so we can avoid doing imports until\n"
     ]
    }
   ],
   "source": [
    "#to convert the type to category\n",
    "for cat in df_cat.columns:\n",
    "    df_cat[cat] = df_cat[cat].astype('category')\n",
    "\n",
    "df_cat.info()"
   ]
  },
  {
   "cell_type": "code",
   "execution_count": 18,
   "id": "through-integrity",
   "metadata": {
    "execution": {
     "iopub.execute_input": "2021-05-30T09:21:06.651254Z",
     "iopub.status.busy": "2021-05-30T09:21:06.650412Z",
     "iopub.status.idle": "2021-05-30T09:21:06.684297Z",
     "shell.execute_reply": "2021-05-30T09:21:06.684865Z",
     "shell.execute_reply.started": "2021-05-30T07:41:21.422003Z"
    },
    "papermill": {
     "duration": 0.076794,
     "end_time": "2021-05-30T09:21:06.685102",
     "exception": false,
     "start_time": "2021-05-30T09:21:06.608308",
     "status": "completed"
    },
    "tags": []
   },
   "outputs": [],
   "source": [
    "cat=np.stack([df_cat[i].cat.codes.values for i in df_cat.columns ],1)\n",
    "cat[:5]\n",
    "cat = torch.tensor(cat, dtype=torch.int64)"
   ]
  },
  {
   "cell_type": "code",
   "execution_count": 19,
   "id": "ignored-editor",
   "metadata": {
    "execution": {
     "iopub.execute_input": "2021-05-30T09:21:06.772548Z",
     "iopub.status.busy": "2021-05-30T09:21:06.771154Z",
     "iopub.status.idle": "2021-05-30T09:21:06.804656Z",
     "shell.execute_reply": "2021-05-30T09:21:06.805887Z",
     "shell.execute_reply.started": "2021-05-30T07:41:22.928005Z"
    },
    "papermill": {
     "duration": 0.081102,
     "end_time": "2021-05-30T09:21:06.806225",
     "exception": false,
     "start_time": "2021-05-30T09:21:06.725123",
     "status": "completed"
    },
    "tags": []
   },
   "outputs": [
    {
     "name": "stdout",
     "output_type": "stream",
     "text": [
      "torch.float32\n"
     ]
    }
   ],
   "source": [
    "con=np.stack([df_con[i].values for i in df_con.columns],1)\n",
    "con[:5]\n",
    "con = torch.Tensor(con)\n",
    "print(con.dtype)"
   ]
  },
  {
   "cell_type": "code",
   "execution_count": 20,
   "id": "consecutive-child",
   "metadata": {
    "execution": {
     "iopub.execute_input": "2021-05-30T09:21:06.898253Z",
     "iopub.status.busy": "2021-05-30T09:21:06.897338Z",
     "iopub.status.idle": "2021-05-30T09:21:06.903896Z",
     "shell.execute_reply": "2021-05-30T09:21:06.904618Z",
     "shell.execute_reply.started": "2021-05-30T07:41:24.072714Z"
    },
    "papermill": {
     "duration": 0.057483,
     "end_time": "2021-05-30T09:21:06.904879",
     "exception": false,
     "start_time": "2021-05-30T09:21:06.847396",
     "status": "completed"
    },
    "tags": []
   },
   "outputs": [
    {
     "name": "stdout",
     "output_type": "stream",
     "text": [
      "torch.float32\n"
     ]
    }
   ],
   "source": [
    "y=torch.Tensor(np.stack([df[y_col].values],1)).reshape(-1,1)\n",
    "print(y.dtype)\n"
   ]
  },
  {
   "cell_type": "code",
   "execution_count": 21,
   "id": "blessed-winning",
   "metadata": {
    "execution": {
     "iopub.execute_input": "2021-05-30T09:21:06.997444Z",
     "iopub.status.busy": "2021-05-30T09:21:06.996644Z",
     "iopub.status.idle": "2021-05-30T09:21:07.035271Z",
     "shell.execute_reply": "2021-05-30T09:21:07.034649Z",
     "shell.execute_reply.started": "2021-05-30T07:41:25.802472Z"
    },
    "papermill": {
     "duration": 0.088474,
     "end_time": "2021-05-30T09:21:07.035440",
     "exception": false,
     "start_time": "2021-05-30T09:21:06.946966",
     "status": "completed"
    },
    "tags": []
   },
   "outputs": [
    {
     "name": "stdout",
     "output_type": "stream",
     "text": [
      "[(24, 12), (7, 4), (2, 1)]\n"
     ]
    }
   ],
   "source": [
    "#Embeddings for Categorical Variables\n",
    "embcat=[(df_cat[i].nunique(),(df_cat[i].nunique()+1)//2) for i in df_cat.columns]\n",
    "print(embcat)"
   ]
  },
  {
   "cell_type": "markdown",
   "id": "underlying-condition",
   "metadata": {
    "papermill": {
     "duration": 0.041287,
     "end_time": "2021-05-30T09:21:07.119688",
     "exception": false,
     "start_time": "2021-05-30T09:21:07.078401",
     "status": "completed"
    },
    "tags": []
   },
   "source": [
    "# NN Model with Fexible Layers"
   ]
  },
  {
   "cell_type": "code",
   "execution_count": 22,
   "id": "normal-bulgaria",
   "metadata": {
    "execution": {
     "iopub.execute_input": "2021-05-30T09:21:07.217136Z",
     "iopub.status.busy": "2021-05-30T09:21:07.216363Z",
     "iopub.status.idle": "2021-05-30T09:21:07.219276Z",
     "shell.execute_reply": "2021-05-30T09:21:07.219779Z",
     "shell.execute_reply.started": "2021-05-30T07:41:27.165627Z"
    },
    "papermill": {
     "duration": 0.058076,
     "end_time": "2021-05-30T09:21:07.220009",
     "exception": false,
     "start_time": "2021-05-30T09:21:07.161933",
     "status": "completed"
    },
    "tags": []
   },
   "outputs": [],
   "source": [
    "#Dropout is used so as to to reduce over fitting\n",
    "class Tabular1(nn.Module):\n",
    "    def __init__(self,con_n,out_sz,layers,embcat,p=0.5):\n",
    "        super().__init__()\n",
    "        layerlist=[]\n",
    "        self.drop=nn.Dropout(p)\n",
    "        self.emb=nn.ModuleList([nn.Embedding(i,o) for (i,o) in embcat])\n",
    "        self.cont=nn.BatchNorm1d(con_n)\n",
    "        total_cat=sum([o for (i,o) in embcat])\n",
    "        totaln=total_cat+con_n\n",
    "        for i in layers:\n",
    "            layerlist.append(nn.Linear(totaln,i))\n",
    "            layerlist.append(nn.ReLU(inplace=True))\n",
    "            layerlist.append(nn.BatchNorm1d(i))\n",
    "            layerlist.append(nn.Dropout(p))\n",
    "            totaln=i\n",
    "        layerlist.append(nn.Linear(layers[-1],out_sz))\n",
    "        self.layers=nn.Sequential(*layerlist)\n",
    "    def forward(self,xcat,xcon):\n",
    "        embe=[]\n",
    "        for i, e in enumerate(self.emb):\n",
    "            embe.append(e(xcat[:,i]))\n",
    "        xcat=torch.cat(embe,1)\n",
    "        xcat=self.drop(xcat)\n",
    "        xcon=self.cont(xcon)\n",
    "        x=torch.cat([xcat,xcon],1)\n",
    "        x=self.layers(x)\n",
    "        return x"
   ]
  },
  {
   "cell_type": "code",
   "execution_count": 23,
   "id": "accepted-milwaukee",
   "metadata": {
    "execution": {
     "iopub.execute_input": "2021-05-30T09:21:07.309639Z",
     "iopub.status.busy": "2021-05-30T09:21:07.308852Z",
     "iopub.status.idle": "2021-05-30T09:21:07.340855Z",
     "shell.execute_reply": "2021-05-30T09:21:07.340207Z",
     "shell.execute_reply.started": "2021-05-30T07:44:52.745519Z"
    },
    "papermill": {
     "duration": 0.077829,
     "end_time": "2021-05-30T09:21:07.341035",
     "exception": false,
     "start_time": "2021-05-30T09:21:07.263206",
     "status": "completed"
    },
    "tags": []
   },
   "outputs": [],
   "source": [
    "model=Tabular1(con.shape[1],1,[200,100],embcat,0.4)"
   ]
  },
  {
   "cell_type": "code",
   "execution_count": 24,
   "id": "typical-community",
   "metadata": {
    "execution": {
     "iopub.execute_input": "2021-05-30T09:21:07.431543Z",
     "iopub.status.busy": "2021-05-30T09:21:07.430800Z",
     "iopub.status.idle": "2021-05-30T09:21:07.435187Z",
     "shell.execute_reply": "2021-05-30T09:21:07.435657Z",
     "shell.execute_reply.started": "2021-05-30T07:44:53.614604Z"
    },
    "papermill": {
     "duration": 0.052536,
     "end_time": "2021-05-30T09:21:07.435934",
     "exception": false,
     "start_time": "2021-05-30T09:21:07.383398",
     "status": "completed"
    },
    "tags": []
   },
   "outputs": [
    {
     "data": {
      "text/plain": [
       "Tabular1(\n",
       "  (drop): Dropout(p=0.4, inplace=False)\n",
       "  (emb): ModuleList(\n",
       "    (0): Embedding(24, 12)\n",
       "    (1): Embedding(7, 4)\n",
       "    (2): Embedding(2, 1)\n",
       "  )\n",
       "  (cont): BatchNorm1d(6, eps=1e-05, momentum=0.1, affine=True, track_running_stats=True)\n",
       "  (layers): Sequential(\n",
       "    (0): Linear(in_features=23, out_features=200, bias=True)\n",
       "    (1): ReLU(inplace=True)\n",
       "    (2): BatchNorm1d(200, eps=1e-05, momentum=0.1, affine=True, track_running_stats=True)\n",
       "    (3): Dropout(p=0.4, inplace=False)\n",
       "    (4): Linear(in_features=200, out_features=100, bias=True)\n",
       "    (5): ReLU(inplace=True)\n",
       "    (6): BatchNorm1d(100, eps=1e-05, momentum=0.1, affine=True, track_running_stats=True)\n",
       "    (7): Dropout(p=0.4, inplace=False)\n",
       "    (8): Linear(in_features=100, out_features=1, bias=True)\n",
       "  )\n",
       ")"
      ]
     },
     "execution_count": 24,
     "metadata": {},
     "output_type": "execute_result"
    }
   ],
   "source": [
    "model"
   ]
  },
  {
   "cell_type": "code",
   "execution_count": 25,
   "id": "rubber-homeless",
   "metadata": {
    "execution": {
     "iopub.execute_input": "2021-05-30T09:21:07.524849Z",
     "iopub.status.busy": "2021-05-30T09:21:07.524069Z",
     "iopub.status.idle": "2021-05-30T09:21:07.530629Z",
     "shell.execute_reply": "2021-05-30T09:21:07.531264Z",
     "shell.execute_reply.started": "2021-05-30T07:41:31.950174Z"
    },
    "papermill": {
     "duration": 0.054624,
     "end_time": "2021-05-30T09:21:07.531502",
     "exception": false,
     "start_time": "2021-05-30T09:21:07.476878",
     "status": "completed"
    },
    "tags": []
   },
   "outputs": [
    {
     "name": "stdout",
     "output_type": "stream",
     "text": [
      "288\n",
      "28\n",
      "2\n",
      "6\n",
      "6\n",
      "4600\n",
      "200\n",
      "200\n",
      "200\n",
      "20000\n",
      "100\n",
      "100\n",
      "100\n",
      "100\n",
      "1\n",
      "Total: 25931\n"
     ]
    }
   ],
   "source": [
    "#number of parameters\n",
    "total=0\n",
    "for param in model.parameters():\n",
    "    print(param.numel())\n",
    "    total+=param.numel()\n",
    "print(f'Total: {total}')    "
   ]
  },
  {
   "cell_type": "code",
   "execution_count": 26,
   "id": "legitimate-excitement",
   "metadata": {
    "execution": {
     "iopub.execute_input": "2021-05-30T09:21:07.620107Z",
     "iopub.status.busy": "2021-05-30T09:21:07.619326Z",
     "iopub.status.idle": "2021-05-30T09:21:07.623074Z",
     "shell.execute_reply": "2021-05-30T09:21:07.622514Z",
     "shell.execute_reply.started": "2021-05-30T07:47:06.857479Z"
    },
    "papermill": {
     "duration": 0.051132,
     "end_time": "2021-05-30T09:21:07.623244",
     "exception": false,
     "start_time": "2021-05-30T09:21:07.572112",
     "status": "completed"
    },
    "tags": []
   },
   "outputs": [],
   "source": [
    "criteria=nn.MSELoss()\n",
    "optimizer=torch.optim.Adam(model.parameters(), lr=0.001)"
   ]
  },
  {
   "cell_type": "code",
   "execution_count": 27,
   "id": "fixed-catch",
   "metadata": {
    "execution": {
     "iopub.execute_input": "2021-05-30T09:21:07.722559Z",
     "iopub.status.busy": "2021-05-30T09:21:07.721792Z",
     "iopub.status.idle": "2021-05-30T09:21:07.749082Z",
     "shell.execute_reply": "2021-05-30T09:21:07.749597Z",
     "shell.execute_reply.started": "2021-05-30T07:44:59.408699Z"
    },
    "papermill": {
     "duration": 0.080871,
     "end_time": "2021-05-30T09:21:07.749832",
     "exception": false,
     "start_time": "2021-05-30T09:21:07.668961",
     "status": "completed"
    },
    "tags": []
   },
   "outputs": [
    {
     "name": "stdout",
     "output_type": "stream",
     "text": [
      "torch.Size([299983, 9])\n",
      "torch.Size([59997, 9])\n",
      "torch.int64\n",
      "torch.Size([239986, 1])\n",
      "torch.Size([239986, 3])\n"
     ]
    }
   ],
   "source": [
    "#to get batches\n",
    "cat_con=torch.cat([cat,con],1)\n",
    "print(cat_con.shape)\n",
    "train_size=int(cat_con.shape[0]*0.8)\n",
    "cat_con_tr=cat_con[:train_size]\n",
    "cat_con_te=cat_con[train_size:]\n",
    "X_cat_tr=cat_con_tr[:,:len(df_cat.columns)]\n",
    "X_cat_tr=X_cat_tr.type(torch.long)\n",
    "X_cat_te=cat_con_te[:,:len(df_cat.columns)]\n",
    "X_con_tr=cat_con_tr[:,len(df_cat.columns):]\n",
    "X_cat_te=X_cat_te.type(torch.long)\n",
    "X_con_te=cat_con_te[:,len(df_cat.columns):]\n",
    "ytr=y[:train_size]\n",
    "yte=y[train_size:]\n",
    "print(cat_con_te.shape)\n",
    "print(X_cat_tr.dtype)\n",
    "print(ytr.shape)\n",
    "print(X_cat_tr.shape)"
   ]
  },
  {
   "cell_type": "markdown",
   "id": "occupational-trash",
   "metadata": {
    "papermill": {
     "duration": 0.040865,
     "end_time": "2021-05-30T09:21:07.831346",
     "exception": false,
     "start_time": "2021-05-30T09:21:07.790481",
     "status": "completed"
    },
    "tags": []
   },
   "source": [
    "# Creating Batches"
   ]
  },
  {
   "cell_type": "code",
   "execution_count": 28,
   "id": "precise-sound",
   "metadata": {
    "execution": {
     "iopub.execute_input": "2021-05-30T09:21:07.927877Z",
     "iopub.status.busy": "2021-05-30T09:21:07.927065Z",
     "iopub.status.idle": "2021-05-30T09:21:07.964951Z",
     "shell.execute_reply": "2021-05-30T09:21:07.965472Z",
     "shell.execute_reply.started": "2021-05-30T07:46:19.755511Z"
    },
    "papermill": {
     "duration": 0.090883,
     "end_time": "2021-05-30T09:21:07.965688",
     "exception": false,
     "start_time": "2021-05-30T09:21:07.874805",
     "status": "completed"
    },
    "tags": []
   },
   "outputs": [
    {
     "name": "stdout",
     "output_type": "stream",
     "text": [
      "(tensor([  9.0000,   5.0000,   0.0000, -73.9883,  40.7541, -73.9937,  40.7460,\n",
      "          1.0109,   1.0000]), tensor([5.3000]))\n"
     ]
    }
   ],
   "source": [
    "train=TensorDataset(cat_con_tr,ytr)\n",
    "print(train[0])\n",
    "#creating batches for training \n",
    "train_data=DataLoader(train,batch_size=10000,shuffle=True)"
   ]
  },
  {
   "cell_type": "markdown",
   "id": "every-photographer",
   "metadata": {
    "papermill": {
     "duration": 0.040657,
     "end_time": "2021-05-30T09:21:08.047745",
     "exception": false,
     "start_time": "2021-05-30T09:21:08.007088",
     "status": "completed"
    },
    "tags": []
   },
   "source": [
    "# Training"
   ]
  },
  {
   "cell_type": "code",
   "execution_count": 29,
   "id": "transsexual-huntington",
   "metadata": {
    "execution": {
     "iopub.execute_input": "2021-05-30T09:21:08.135241Z",
     "iopub.status.busy": "2021-05-30T09:21:08.134187Z",
     "iopub.status.idle": "2021-05-30T10:27:05.316781Z",
     "shell.execute_reply": "2021-05-30T10:27:05.316155Z",
     "shell.execute_reply.started": "2021-05-30T07:47:18.720484Z"
    },
    "papermill": {
     "duration": 3957.227893,
     "end_time": "2021-05-30T10:27:05.317014",
     "exception": false,
     "start_time": "2021-05-30T09:21:08.089121",
     "status": "completed"
    },
    "tags": []
   },
   "outputs": [
    {
     "name": "stdout",
     "output_type": "stream",
     "text": [
      "Epoch:10 Loss:   10.2760\n",
      "Epoch:20 Loss:    6.6365\n",
      "Epoch:30 Loss:    6.2017\n",
      "Epoch:40 Loss:    6.1042\n",
      "Epoch:50 Loss:    5.9342\n",
      "Epoch:60 Loss:    5.9007\n",
      "Epoch:70 Loss:    5.8668\n",
      "Epoch:80 Loss:    5.8844\n",
      "Epoch:90 Loss:    5.8020\n",
      "Epoch:100 Loss:    5.7807\n",
      "Epoch:110 Loss:    5.7492\n",
      "Epoch:120 Loss:    5.7649\n",
      "Epoch:130 Loss:    5.7110\n",
      "Epoch:140 Loss:    5.7251\n",
      "Epoch:150 Loss:    5.6957\n",
      "Epoch:160 Loss:    5.8131\n",
      "Epoch:170 Loss:    5.7345\n",
      "Epoch:180 Loss:    5.7457\n",
      "Epoch:190 Loss:    5.7628\n",
      "Epoch:200 Loss:    5.6696\n",
      "Epoch:210 Loss:    5.6699\n",
      "Epoch:220 Loss:    5.6519\n",
      "Epoch:230 Loss:    5.6630\n",
      "Epoch:240 Loss:    5.6530\n",
      "Epoch:250 Loss:    5.6675\n",
      "Epoch:260 Loss:    5.6233\n",
      "Epoch:270 Loss:    5.6609\n",
      "Epoch:280 Loss:    5.6311\n",
      "Epoch:290 Loss:    5.6198\n",
      "Epoch:300 Loss:    5.6259\n",
      "Time in mins:    65.9528\n"
     ]
    }
   ],
   "source": [
    "import time\n",
    "start=time.time()\n",
    "epochs=300\n",
    "losses1=[]\n",
    "val_losses=[]\n",
    "for i in range (epochs):\n",
    "    i=i+1\n",
    "    for b,(X_train,y_train) in enumerate(train_data):\n",
    "        X_train_cat=X_train[:,:len(df_cat.columns)]\n",
    "        X_train_cat = X_train_cat.type(torch.LongTensor)\n",
    "        X_train_con=X_train[:,len(df_cat.columns):]\n",
    "        y_pred = model(X_train_cat, X_train_con)\n",
    "        loss = torch.sqrt(criteria(y_pred, y_train))\n",
    "        optimizer.zero_grad()\n",
    "        loss.backward()\n",
    "        optimizer.step()\n",
    "    y_pred = model(X_cat_tr,X_con_tr)\n",
    "    loss = torch.sqrt(criteria(y_pred, ytr))\n",
    "    if i%10==0:\n",
    "        print(f'Epoch:{i} Loss:{loss.item():10.4f}')\n",
    "    losses1.append(loss.item()) \n",
    "    with torch.no_grad():\n",
    "        y_val = model(X_cat_te,X_con_te)\n",
    "        loss = torch.sqrt(criteria(y_val,yte))\n",
    "        val_losses.append(loss.item()) \n",
    "print(f'Time in mins: {((time.time()-start)/60):10.4f}')        "
   ]
  },
  {
   "cell_type": "code",
   "execution_count": 30,
   "id": "canadian-marks",
   "metadata": {
    "execution": {
     "iopub.execute_input": "2021-05-30T10:27:05.443835Z",
     "iopub.status.busy": "2021-05-30T10:27:05.442722Z",
     "iopub.status.idle": "2021-05-30T10:27:05.624004Z",
     "shell.execute_reply": "2021-05-30T10:27:05.624519Z",
     "shell.execute_reply.started": "2021-05-30T08:06:43.122789Z"
    },
    "papermill": {
     "duration": 0.255756,
     "end_time": "2021-05-30T10:27:05.624720",
     "exception": false,
     "start_time": "2021-05-30T10:27:05.368964",
     "status": "completed"
    },
    "tags": []
   },
   "outputs": [
    {
     "data": {
      "image/png": "[encoded data removed]",
      "text/plain": [
       "<Figure size 432x288 with 1 Axes>"
      ]
     },
     "metadata": {
      "needs_background": "light"
     },
     "output_type": "display_data"
    }
   ],
   "source": [
    "plt.plot(losses1, label='training loss')\n",
    "plt.plot(val_losses, label='validation loss')\n",
    "plt.title('Loss at the end of each epoch')\n",
    "plt.legend();"
   ]
  },
  {
   "cell_type": "markdown",
   "id": "verbal-richardson",
   "metadata": {
    "papermill": {
     "duration": 0.050389,
     "end_time": "2021-05-30T10:27:05.726135",
     "exception": false,
     "start_time": "2021-05-30T10:27:05.675746",
     "status": "completed"
    },
    "tags": []
   },
   "source": [
    "# Output of NN"
   ]
  },
  {
   "cell_type": "code",
   "execution_count": 31,
   "id": "strategic-auckland",
   "metadata": {
    "execution": {
     "iopub.execute_input": "2021-05-30T10:27:05.835116Z",
     "iopub.status.busy": "2021-05-30T10:27:05.834388Z",
     "iopub.status.idle": "2021-05-30T10:27:06.445310Z",
     "shell.execute_reply": "2021-05-30T10:27:06.444655Z",
     "shell.execute_reply.started": "2021-05-30T08:06:58.443437Z"
    },
    "papermill": {
     "duration": 0.667858,
     "end_time": "2021-05-30T10:27:06.445512",
     "exception": false,
     "start_time": "2021-05-30T10:27:05.777654",
     "status": "completed"
    },
    "tags": []
   },
   "outputs": [
    {
     "name": "stdout",
     "output_type": "stream",
     "text": [
      "RMSE: 5.66913080\n"
     ]
    }
   ],
   "source": [
    "with torch.no_grad():\n",
    "    y_val = model(X_cat_te,X_con_te)\n",
    "    loss = torch.sqrt(criteria(y_val,yte))\n",
    "print(f'RMSE: {loss:.8f}')"
   ]
  },
  {
   "cell_type": "markdown",
   "id": "cloudy-weapon",
   "metadata": {
    "papermill": {
     "duration": 0.052886,
     "end_time": "2021-05-30T10:27:06.551859",
     "exception": false,
     "start_time": "2021-05-30T10:27:06.498973",
     "status": "completed"
    },
    "tags": []
   },
   "source": [
    "Training for more Epochs and for more Layers can be looked into. Feel free to make changes to the code and get better models."
   ]
  }
 ],
 "metadata": {
  "kernelspec": {
   "display_name": "Python 3",
   "language": "python",
   "name": "python3"
  },
  "language_info": {
   "codemirror_mode": {
    "name": "ipython",
    "version": 3
   },
   "file_extension": ".py",
   "mimetype": "text/x-python",
   "name": "python",
   "nbconvert_exporter": "python",
   "pygments_lexer": "ipython3",
   "version": "3.7.10"
  },
  "papermill": {
   "default_parameters": {},
   "duration": 4025.999858,
   "end_time": "2021-05-30T10:27:08.163074",
   "environment_variables": {},
   "exception": null,
   "input_path": "__notebook__.ipynb",
   "output_path": "__notebook__.ipynb",
   "parameters": {},
   "start_time": "2021-05-30T09:20:02.163216",
   "version": "2.3.3"
  }
 },
 "nbformat": 4,
 "nbformat_minor": 5
}
